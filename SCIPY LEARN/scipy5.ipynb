{
 "cells": [
  {
   "cell_type": "markdown",
   "id": "b5e3345e",
   "metadata": {},
   "source": [
    "Working with spital Data"
   ]
  },
  {
   "cell_type": "code",
   "execution_count": 4,
   "id": "98aa488b",
   "metadata": {},
   "outputs": [
    {
     "name": "stdout",
     "output_type": "stream",
     "text": [
      "[[3 2 4]\n",
      " [3 1 0]\n",
      " [1 3 4]]\n"
     ]
    }
   ],
   "source": [
    "# Working with spatial data: it refers to data thzt is represented in a geometric space.\n",
    "# Triangulation: one method to generate these triangulation through the point is delaunay() triangulation.\n",
    "\n",
    "# here now we will create a triangualtion from some points:\n",
    "import numpy as np\n",
    "from scipy.spatial import Delaunay\n",
    "import matplotlib.pyplot as plt\n",
    "\n",
    "sharad = np.array([[2,4], [3,4], [3,0], [2,2], [4,1]])\n",
    "simplices = Delaunay(sharad).simplices\n",
    "# plt.triplot(sharad[:,0], sharad[:,1], simplices)\n",
    "# plt.scatter(sharad[:,0], sharad[:,1], color='r')\n",
    "# plt.show()\n",
    "print(simplices)\n",
    "\n"
   ]
  },
  {
   "cell_type": "code",
   "execution_count": null,
   "id": "55c42921",
   "metadata": {},
   "outputs": [],
   "source": [
    "# Convex HUll: it is the smallest polygon that covers all of the given point:\n",
    "import numpy as np\n",
    "from scipy.spatial import ConvexHull\n",
    "import matplotlib.pyplot as plt\n",
    "\n",
    "sharad = np.array([[2,4], [3,4], [3,0], [2,2], [4,1], [1,2], [5,0], [3,1],[1,2],[0,2]])\n",
    "\n",
    "hull = ConvexHull(sharad)\n",
    "hull_points = hull.simplices\n",
    "plt.scatter(sharad[:,0], sharad[:,1])\n",
    "for simplex in hull_points:\n",
    "    plt.plot(sharad[simplex,0], sharad[simplex,1], 'k-')\n",
    "plt.show()\n",
    "\n",
    "# KDTrees: they are a data structures optimized for the nearest neighbour queries.\n",
    "from scipy.spatial import KDTree\n",
    "sharad = [(1,-1), (2,3), (-2,3), (2,-3)]\n",
    "tree = KDTree(sharad)\n",
    "res = tree.query((1,1))\n",
    "print(res)\n",
    "\n",
    "# Distance matrix: it is used to find the various types of distance between 2 points . there are basically 2 types: Euclidean Distance, Cosine Distance.\n",
    "# Euclidean Distance: \n",
    "from scipy.spatial.distance import euclidean\n",
    "p1 = (1,0)\n",
    "p2 = (10,2)\n",
    "sharad = euclidean(p1, p2)\n",
    "print(sharad)\n",
    "\n",
    "# Cosine Distance: \n",
    "from scipy.spatial.distance import cosine\n",
    "p1 = (1,0)\n",
    "p2 = (10,2)\n",
    "sharad = cosine(p1, p2)\n",
    "print(sharad)"
   ]
  }
 ],
 "metadata": {
  "kernelspec": {
   "display_name": "base",
   "language": "python",
   "name": "python3"
  },
  "language_info": {
   "codemirror_mode": {
    "name": "ipython",
    "version": 3
   },
   "file_extension": ".py",
   "mimetype": "text/x-python",
   "name": "python",
   "nbconvert_exporter": "python",
   "pygments_lexer": "ipython3",
   "version": "3.13.2"
  }
 },
 "nbformat": 4,
 "nbformat_minor": 5
}
