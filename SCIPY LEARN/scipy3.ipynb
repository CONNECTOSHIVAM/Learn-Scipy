{
 "cells": [
  {
   "cell_type": "markdown",
   "id": "91f37a4d",
   "metadata": {},
   "source": [
    "Sparse data: Sparse data is the data that has mostly unused elements.\n",
    "Like the elements that don't carry that info. [1,0,0,2,0,0,0,3,0,0,4]\n"
   ]
  },
  {
   "cell_type": "code",
   "execution_count": 3,
   "id": "899df3f7",
   "metadata": {},
   "outputs": [
    {
     "name": "stdout",
     "output_type": "stream",
     "text": [
      "<Compressed Sparse Row sparse matrix of dtype 'int64'\n",
      "\twith 2 stored elements and shape (1, 7)>\n",
      "  Coords\tValues\n",
      "  (0, 4)\t1\n",
      "  (0, 6)\t2\n"
     ]
    }
   ],
   "source": [
    "#Scipy has a Module scipy.sparse function. there are two matrix in this sparse:\n",
    "# 1. CSC --- > [Compressed Sparse Column]\n",
    "# 2. CSR --- > [Compresses Sparse Row]\n",
    "\n",
    "import numpy as np\n",
    "from scipy.sparse import csr_matrix\n",
    "arr1 = np.array([0,0,0,0,1,0,2])\n",
    "print(csr_matrix(arr1))"
   ]
  },
  {
   "cell_type": "code",
   "execution_count": 4,
   "id": "8de8718a",
   "metadata": {},
   "outputs": [
    {
     "name": "stdout",
     "output_type": "stream",
     "text": [
      "[1 1 2]\n"
     ]
    }
   ],
   "source": [
    "\n",
    "# Sparse matrix Methods\n",
    "import numpy as np\n",
    "from scipy.sparse import csr_matrix\n",
    "sharad = np.array([[0,0,0,],[0,0,1],[1,0,2]])\n",
    "print(csr_matrix(sharad).data)\n",
    "\n"
   ]
  },
  {
   "cell_type": "code",
   "execution_count": 5,
   "id": "3d24e8f6",
   "metadata": {},
   "outputs": [
    {
     "name": "stdout",
     "output_type": "stream",
     "text": [
      "3\n"
     ]
    }
   ],
   "source": [
    "# what if we want to count nonzeros, we can do this via count_nonzero() method.\n",
    "import numpy as np\n",
    "from scipy.sparse import csr_matrix\n",
    "sharad = np.array([[0,0,0,],[0,0,1],[1,0,2]])\n",
    "print(csr_matrix(sharad).count_nonzero())"
   ]
  },
  {
   "cell_type": "code",
   "execution_count": 6,
   "id": "a6ae7921",
   "metadata": {},
   "outputs": [
    {
     "name": "stdout",
     "output_type": "stream",
     "text": [
      "<Compressed Sparse Row sparse matrix of dtype 'int64'\n",
      "\twith 3 stored elements and shape (3, 3)>\n",
      "  Coords\tValues\n",
      "  (1, 2)\t1\n",
      "  (2, 0)\t1\n",
      "  (2, 2)\t2\n"
     ]
    }
   ],
   "source": [
    "# For removing the zero elemements from the matrix we will use eliminate_zeros().\n",
    "import numpy as np\n",
    "from scipy.sparse import csr_matrix\n",
    "sharad = np.array([[0,0,0,],[0,0,1],[1,0,2]])\n",
    "sharadnew = csr_matrix(sharad)\n",
    "sharadnew.eliminate_zeros()\n",
    "print(sharadnew)\n",
    "\n"
   ]
  },
  {
   "cell_type": "code",
   "execution_count": 7,
   "id": "a72ced1e",
   "metadata": {},
   "outputs": [
    {
     "name": "stdout",
     "output_type": "stream",
     "text": [
      "<Compressed Sparse Row sparse matrix of dtype 'int64'\n",
      "\twith 3 stored elements and shape (3, 3)>\n",
      "  Coords\tValues\n",
      "  (1, 2)\t1\n",
      "  (2, 0)\t1\n",
      "  (2, 2)\t2\n"
     ]
    }
   ],
   "source": [
    "# eliminating duplicate entries with the sum_duplicates() method:\n",
    "import numpy as np\n",
    "from scipy.sparse import csr_matrix\n",
    "sharad = np.array([[0,0,0,],[0,0,1],[1,0,2]])\n",
    "sharadnew = csr_matrix(sharad)\n",
    "sharadnew.sum_duplicates()\n",
    "print(sharadnew)"
   ]
  },
  {
   "cell_type": "code",
   "execution_count": 8,
   "id": "6963f605",
   "metadata": {},
   "outputs": [
    {
     "name": "stdout",
     "output_type": "stream",
     "text": [
      "<Compressed Sparse Column sparse matrix of dtype 'int64'\n",
      "\twith 3 stored elements and shape (3, 3)>\n",
      "  Coords\tValues\n",
      "  (2, 0)\t1\n",
      "  (1, 2)\t1\n",
      "  (2, 2)\t2\n"
     ]
    }
   ],
   "source": [
    "# here we will convert csr to csc with the tocsc():\n",
    "import numpy as np\n",
    "from scipy.sparse import csr_matrix\n",
    "sharad = np.array([[0,0,0,],[0,0,1],[1,0,2]])\n",
    "sharadnew = csr_matrix(sharad).tocsc()\n",
    "print(sharadnew)"
   ]
  },
  {
   "cell_type": "code",
   "execution_count": null,
   "id": "2f841fd9",
   "metadata": {},
   "outputs": [],
   "source": []
  }
 ],
 "metadata": {
  "kernelspec": {
   "display_name": "base",
   "language": "python",
   "name": "python3"
  },
  "language_info": {
   "codemirror_mode": {
    "name": "ipython",
    "version": 3
   },
   "file_extension": ".py",
   "mimetype": "text/x-python",
   "name": "python",
   "nbconvert_exporter": "python",
   "pygments_lexer": "ipython3",
   "version": "3.13.2"
  }
 },
 "nbformat": 4,
 "nbformat_minor": 5
}
