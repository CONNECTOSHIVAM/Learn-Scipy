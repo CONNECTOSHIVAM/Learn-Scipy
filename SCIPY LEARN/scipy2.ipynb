{
 "cells": [
  {
   "cell_type": "markdown",
   "id": "1d8dd575",
   "metadata": {},
   "source": [
    "Optimizers in Scipy"
   ]
  },
  {
   "cell_type": "code",
   "execution_count": 7,
   "id": "2cf5560f",
   "metadata": {},
   "outputs": [
    {
     "name": "stdout",
     "output_type": "stream",
     "text": [
      " message: The solution converged.\n",
      " success: True\n",
      "  status: 1\n",
      "     fun: [ 0.000e+00]\n",
      "       x: [-7.391e-01]\n",
      "  method: hybr\n",
      "    nfev: 11\n",
      "    fjac: [[-1.000e+00]]\n",
      "       r: [-1.674e+00]\n",
      "     qtf: [-2.668e-13]\n",
      "[-0.73908513]\n"
     ]
    },
    {
     "name": "stderr",
     "output_type": "stream",
     "text": [
      "/tmp/ipykernel_224819/2544867645.py:12: DeprecationWarning: Conversion of an array with ndim > 0 to a scalar is deprecated, and will error in future. Ensure you extract a single element from your array before performing this operation. (Deprecated NumPy 1.25.)\n",
      "  return x + cos(x)\n"
     ]
    }
   ],
   "source": [
    "#Optimizers in scipy : they are the set of procedures defined in scipy that either find the minimum value of \n",
    "# a function or a root  of an equations.\n",
    "\n",
    "#  optimizing functions : all the algorithm which helps in minimizing the data.\n",
    "# Root of an equations : x + cos(x), we will solve it via optimize.root functions.\n",
    "\n",
    "from scipy.optimize import root\n",
    "from math import cos\n",
    "\n",
    "#deine the funtion\n",
    "def eqn(x):\n",
    "    return x + cos(x)\n",
    "#To get the info about whole root.\n",
    "myRoot = root(eqn, 0)\n",
    "print(myRoot)\n",
    "\n",
    "#just value of x\n",
    "myRoot = root(eqn, 0)\n",
    "print(myRoot.x)"
   ]
  },
  {
   "cell_type": "code",
   "execution_count": 11,
   "id": "54fb2798",
   "metadata": {},
   "outputs": [
    {
     "name": "stdout",
     "output_type": "stream",
     "text": [
      "  message: Optimization terminated successfully.\n",
      "  success: True\n",
      "   status: 0\n",
      "      fun: 1.75\n",
      "        x: [-5.000e-01]\n",
      "      nit: 2\n",
      "      jac: [ 0.000e+00]\n",
      " hess_inv: [[ 5.000e-01]]\n",
      "     nfev: 8\n",
      "     njev: 4\n"
     ]
    }
   ],
   "source": [
    "#Maximise the functions or data:\n",
    "# High points are called maxima and low points are called minima.\n",
    "\n",
    "# finding the Minima:\n",
    "# we use scipy.optimize.minimize(). it uses 3 arguments: \"fun\", x0 and method:it also has some legal\n",
    "#  values: \"CG\", \"BFGS\", \"NEWTON-CG\", \"L-BFGS-B\", \"TNC\", \"COBYLA\", \"SLSQP\".\n",
    "# callback: functions called after each iteration of optimizations.\n",
    "\n",
    "# Example of the above: in which we will minimize the function: x^2 + x + 2 with BFGS:\n",
    "\n",
    "from scipy.optimize import minimize\n",
    "def eqn(x):\n",
    "    return x**2 + x + 2\n",
    "\n",
    "myMin = minimize(eqn, 0, method='BFGS')\n",
    "print(myMin)"
   ]
  },
  {
   "cell_type": "code",
   "execution_count": null,
   "id": "f4fb07d7",
   "metadata": {},
   "outputs": [],
   "source": []
  }
 ],
 "metadata": {
  "kernelspec": {
   "display_name": "base",
   "language": "python",
   "name": "python3"
  },
  "language_info": {
   "codemirror_mode": {
    "name": "ipython",
    "version": 3
   },
   "file_extension": ".py",
   "mimetype": "text/x-python",
   "name": "python",
   "nbconvert_exporter": "python",
   "pygments_lexer": "ipython3",
   "version": "3.13.2"
  }
 },
 "nbformat": 4,
 "nbformat_minor": 5
}
