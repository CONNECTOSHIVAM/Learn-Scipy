{
 "cells": [
  {
   "cell_type": "code",
   "execution_count": 1,
   "metadata": {},
   "outputs": [
    {
     "name": "stdout",
     "output_type": "stream",
     "text": [
      "Requirement already satisfied: librosa in /home/shivam/miniconda3/lib/python3.13/site-packages (0.11.0)\n",
      "Requirement already satisfied: matplotlib in /home/shivam/miniconda3/lib/python3.13/site-packages (3.10.3)\n",
      "Requirement already satisfied: scipy in /home/shivam/miniconda3/lib/python3.13/site-packages (1.15.3)\n",
      "Requirement already satisfied: numpy in /home/shivam/miniconda3/lib/python3.13/site-packages (2.2.6)\n",
      "Requirement already satisfied: pandas in /home/shivam/miniconda3/lib/python3.13/site-packages (2.3.1)\n",
      "Requirement already satisfied: audioread>=2.1.9 in /home/shivam/miniconda3/lib/python3.13/site-packages (from librosa) (3.0.1)\n",
      "Requirement already satisfied: numba>=0.51.0 in /home/shivam/miniconda3/lib/python3.13/site-packages (from librosa) (0.61.2)\n",
      "Requirement already satisfied: scikit-learn>=1.1.0 in /home/shivam/miniconda3/lib/python3.13/site-packages (from librosa) (1.7.0)\n",
      "Requirement already satisfied: joblib>=1.0 in /home/shivam/miniconda3/lib/python3.13/site-packages (from librosa) (1.5.1)\n",
      "Requirement already satisfied: decorator>=4.3.0 in /home/shivam/miniconda3/lib/python3.13/site-packages (from librosa) (5.2.1)\n",
      "Requirement already satisfied: soundfile>=0.12.1 in /home/shivam/miniconda3/lib/python3.13/site-packages (from librosa) (0.13.1)\n",
      "Requirement already satisfied: pooch>=1.1 in /home/shivam/miniconda3/lib/python3.13/site-packages (from librosa) (1.8.2)\n",
      "Requirement already satisfied: soxr>=0.3.2 in /home/shivam/miniconda3/lib/python3.13/site-packages (from librosa) (0.5.0.post1)\n",
      "Requirement already satisfied: typing_extensions>=4.1.1 in /home/shivam/miniconda3/lib/python3.13/site-packages (from librosa) (4.12.2)\n",
      "Requirement already satisfied: lazy_loader>=0.1 in /home/shivam/miniconda3/lib/python3.13/site-packages (from librosa) (0.4)\n",
      "Requirement already satisfied: msgpack>=1.0 in /home/shivam/miniconda3/lib/python3.13/site-packages (from librosa) (1.1.1)\n",
      "Requirement already satisfied: standard-aifc in /home/shivam/miniconda3/lib/python3.13/site-packages (from librosa) (3.13.0)\n",
      "Requirement already satisfied: standard-sunau in /home/shivam/miniconda3/lib/python3.13/site-packages (from librosa) (3.13.0)\n",
      "Requirement already satisfied: contourpy>=1.0.1 in /home/shivam/miniconda3/lib/python3.13/site-packages (from matplotlib) (1.3.2)\n",
      "Requirement already satisfied: cycler>=0.10 in /home/shivam/miniconda3/lib/python3.13/site-packages (from matplotlib) (0.12.1)\n",
      "Requirement already satisfied: fonttools>=4.22.0 in /home/shivam/miniconda3/lib/python3.13/site-packages (from matplotlib) (4.59.0)\n",
      "Requirement already satisfied: kiwisolver>=1.3.1 in /home/shivam/miniconda3/lib/python3.13/site-packages (from matplotlib) (1.4.8)\n",
      "Requirement already satisfied: packaging>=20.0 in /home/shivam/miniconda3/lib/python3.13/site-packages (from matplotlib) (24.2)\n",
      "Requirement already satisfied: pillow>=8 in /home/shivam/miniconda3/lib/python3.13/site-packages (from matplotlib) (11.2.1)\n",
      "Requirement already satisfied: pyparsing>=2.3.1 in /home/shivam/miniconda3/lib/python3.13/site-packages (from matplotlib) (3.2.3)\n",
      "Requirement already satisfied: python-dateutil>=2.7 in /home/shivam/miniconda3/lib/python3.13/site-packages (from matplotlib) (2.9.0.post0)\n",
      "Requirement already satisfied: pytz>=2020.1 in /home/shivam/miniconda3/lib/python3.13/site-packages (from pandas) (2025.2)\n",
      "Requirement already satisfied: tzdata>=2022.7 in /home/shivam/miniconda3/lib/python3.13/site-packages (from pandas) (2025.2)\n",
      "Requirement already satisfied: llvmlite<0.45,>=0.44.0dev0 in /home/shivam/miniconda3/lib/python3.13/site-packages (from numba>=0.51.0->librosa) (0.44.0)\n",
      "Requirement already satisfied: platformdirs>=2.5.0 in /home/shivam/miniconda3/lib/python3.13/site-packages (from pooch>=1.1->librosa) (4.3.7)\n",
      "Requirement already satisfied: requests>=2.19.0 in /home/shivam/miniconda3/lib/python3.13/site-packages (from pooch>=1.1->librosa) (2.32.3)\n",
      "Requirement already satisfied: six>=1.5 in /home/shivam/miniconda3/lib/python3.13/site-packages (from python-dateutil>=2.7->matplotlib) (1.17.0)\n",
      "Requirement already satisfied: charset-normalizer<4,>=2 in /home/shivam/miniconda3/lib/python3.13/site-packages (from requests>=2.19.0->pooch>=1.1->librosa) (3.3.2)\n",
      "Requirement already satisfied: idna<4,>=2.5 in /home/shivam/miniconda3/lib/python3.13/site-packages (from requests>=2.19.0->pooch>=1.1->librosa) (3.7)\n",
      "Requirement already satisfied: urllib3<3,>=1.21.1 in /home/shivam/miniconda3/lib/python3.13/site-packages (from requests>=2.19.0->pooch>=1.1->librosa) (2.3.0)\n",
      "Requirement already satisfied: certifi>=2017.4.17 in /home/shivam/miniconda3/lib/python3.13/site-packages (from requests>=2.19.0->pooch>=1.1->librosa) (2025.4.26)\n",
      "Requirement already satisfied: threadpoolctl>=3.1.0 in /home/shivam/miniconda3/lib/python3.13/site-packages (from scikit-learn>=1.1.0->librosa) (3.6.0)\n",
      "Requirement already satisfied: cffi>=1.0 in /home/shivam/miniconda3/lib/python3.13/site-packages (from soundfile>=0.12.1->librosa) (1.17.1)\n",
      "Requirement already satisfied: pycparser in /home/shivam/miniconda3/lib/python3.13/site-packages (from cffi>=1.0->soundfile>=0.12.1->librosa) (2.21)\n",
      "Requirement already satisfied: standard-chunk in /home/shivam/miniconda3/lib/python3.13/site-packages (from standard-aifc->librosa) (3.13.0)\n",
      "Requirement already satisfied: audioop-lts in /home/shivam/miniconda3/lib/python3.13/site-packages (from standard-aifc->librosa) (0.2.1)\n",
      "Note: you may need to restart the kernel to use updated packages.\n"
     ]
    }
   ],
   "source": [
    "pip install librosa matplotlib scipy numpy pandas"
   ]
  },
  {
   "cell_type": "markdown",
   "id": "f7c5b8ee",
   "metadata": {},
   "source": [
    "Scipy : scipy is more foucsed on scientific calculations, It provides many built in scientific constants."
   ]
  },
  {
   "cell_type": "code",
   "execution_count": 9,
   "id": "e75dda01",
   "metadata": {},
   "outputs": [
    {
     "name": "stdout",
     "output_type": "stream",
     "text": [
      "3.141592653589793\n"
     ]
    }
   ],
   "source": [
    "# import scipy as sc\n",
    "from scipy import constants\n",
    "print(constants.pi)"
   ]
  },
  {
   "cell_type": "code",
   "execution_count": 10,
   "id": "d105473a",
   "metadata": {},
   "outputs": [
    {
     "name": "stdout",
     "output_type": "stream",
     "text": [
      "['Avogadro', 'Boltzmann', 'Btu', 'Btu_IT', 'Btu_th', 'ConstantWarning', 'G', 'Julian_year', 'N_A', 'Planck', 'R', 'Rydberg', 'Stefan_Boltzmann', 'Wien', '__all__', '__builtins__', '__cached__', '__doc__', '__file__', '__loader__', '__name__', '__package__', '__path__', '__spec__', '_codata', '_constants', '_obsolete_constants', 'acre', 'alpha', 'angstrom', 'arcmin', 'arcminute', 'arcsec', 'arcsecond', 'astronomical_unit', 'atm', 'atmosphere', 'atomic_mass', 'atto', 'au', 'bar', 'barrel', 'bbl', 'blob', 'c', 'calorie', 'calorie_IT', 'calorie_th', 'carat', 'centi', 'codata', 'constants', 'convert_temperature', 'day', 'deci', 'degree', 'degree_Fahrenheit', 'deka', 'dyn', 'dyne', 'e', 'eV', 'electron_mass', 'electron_volt', 'elementary_charge', 'epsilon_0', 'erg', 'exa', 'exbi', 'femto', 'fermi', 'find', 'fine_structure', 'fluid_ounce', 'fluid_ounce_US', 'fluid_ounce_imp', 'foot', 'g', 'gallon', 'gallon_US', 'gallon_imp', 'gas_constant', 'gibi', 'giga', 'golden', 'golden_ratio', 'grain', 'gram', 'gravitational_constant', 'h', 'hbar', 'hectare', 'hecto', 'horsepower', 'hour', 'hp', 'inch', 'k', 'kgf', 'kibi', 'kilo', 'kilogram_force', 'kmh', 'knot', 'lambda2nu', 'lb', 'lbf', 'light_year', 'liter', 'litre', 'long_ton', 'm_e', 'm_n', 'm_p', 'm_u', 'mach', 'mebi', 'mega', 'metric_ton', 'micro', 'micron', 'mil', 'mile', 'milli', 'minute', 'mmHg', 'mph', 'mu_0', 'nano', 'nautical_mile', 'neutron_mass', 'nu2lambda', 'ounce', 'oz', 'parsec', 'pebi', 'peta', 'physical_constants', 'pi', 'pico', 'point', 'pound', 'pound_force', 'precision', 'proton_mass', 'psi', 'pt', 'quecto', 'quetta', 'ronna', 'ronto', 'short_ton', 'sigma', 'slinch', 'slug', 'speed_of_light', 'speed_of_sound', 'stone', 'survey_foot', 'survey_mile', 'tebi', 'tera', 'test', 'ton_TNT', 'torr', 'troy_ounce', 'troy_pound', 'u', 'unit', 'value', 'week', 'yard', 'year', 'yobi', 'yocto', 'yotta', 'zebi', 'zepto', 'zero_Celsius', 'zetta']\n"
     ]
    }
   ],
   "source": [
    "# all list of units seen by using the dir() functions.\n",
    "print(dir(constants))"
   ]
  },
  {
   "cell_type": "code",
   "execution_count": 11,
   "id": "100c05ae",
   "metadata": {},
   "outputs": [
    {
     "name": "stdout",
     "output_type": "stream",
     "text": [
      "1e+24\n",
      "1e+21\n",
      "1e+18\n",
      "1000000000000000.0\n",
      "1000000000000.0\n",
      "1000000000.0\n",
      "1000000.0\n",
      "1000.0\n",
      "100.0\n",
      "10.0\n",
      "0.1\n",
      "0.01\n",
      "0.001\n",
      "1e-06\n",
      "1e-09\n",
      "1e-12\n",
      "1e-15\n",
      "1e-18\n",
      "1e-21\n"
     ]
    }
   ],
   "source": [
    "#Unit Categories: Metric , Binary, Mass, Angle, Time, Length,  Pressure, Volume, Speed ,   \n",
    "#                 Temprature , Energy , Power , Force.\n",
    "\n",
    "#Metric SI Prefixes:\n",
    "from scipy import constants\n",
    "print(constants.yotta) #1e+24\n",
    "print(constants.zetta) #1e+21\n",
    "print(constants.exa)\n",
    "print(constants.peta)\n",
    "print(constants.tera)\n",
    "print(constants.giga)\n",
    "print(constants.mega)\n",
    "print(constants.kilo)\n",
    "print(constants.hecto)\n",
    "print(constants.deka)\n",
    "print(constants.deci)\n",
    "print(constants.centi)\n",
    "print(constants.milli)\n",
    "print(constants.micro)\n",
    "print(constants.nano)\n",
    "print(constants.pico)\n",
    "print(constants.femto)\n",
    "print(constants.atto)\n",
    "print(constants.zepto)\n",
    "                "
   ]
  },
  {
   "cell_type": "code",
   "execution_count": null,
   "id": "85bc276f",
   "metadata": {},
   "outputs": [
    {
     "name": "stdout",
     "output_type": "stream",
     "text": [
      "1024\n",
      "1048576\n",
      "1073741824\n",
      "1099511627776\n",
      "1125899906842624\n",
      "1152921504606846976\n",
      "1180591620717411303424\n",
      "1208925819614629174706176\n"
     ]
    }
   ],
   "source": [
    "#Binary Prefix:\n",
    "from scipy import constants\n",
    "print(constants.kibi) # 1024 kb = 1mb\n",
    "print(constants.mebi)\n",
    "print(constants.gibi)\n",
    "print(constants.tebi)\n",
    "print(constants.pebi)\n",
    "print(constants.exbi)\n",
    "print(constants.zebi)\n",
    "print(constants.yobi)"
   ]
  },
  {
   "cell_type": "code",
   "execution_count": 13,
   "id": "2530cf46",
   "metadata": {},
   "outputs": [
    {
     "name": "stdout",
     "output_type": "stream",
     "text": [
      "0.001\n",
      "1000.0\n",
      "6.479891e-05\n",
      "0.45359236999999997\n",
      "0.45359236999999997\n",
      "0.028349523124999998\n",
      "0.028349523124999998\n",
      "6.3502931799999995\n",
      "1016.0469088\n",
      "907.1847399999999\n",
      "0.031103476799999998\n",
      "0.37324172159999996\n",
      "0.0002\n",
      "1.66053906892e-27\n",
      "1.66053906892e-27\n",
      "1.66053906892e-27\n"
     ]
    }
   ],
   "source": [
    "# MASS: \n",
    "from scipy import constants\n",
    "print(constants.gram) # 0.001\n",
    "print(constants.metric_ton) # 1000.0\n",
    "print(constants.grain)\n",
    "print(constants.lb)\n",
    "print(constants.pound)\n",
    "print(constants.oz)\n",
    "print(constants.ounce)\n",
    "print(constants.stone)\n",
    "print(constants.long_ton)\n",
    "print(constants.short_ton)\n",
    "print(constants.troy_ounce)\n",
    "print(constants.troy_pound)\n",
    "print(constants.carat)\n",
    "print(constants.atomic_mass)\n",
    "print(constants.m_u)\n",
    "print(constants.u)\n",
    "\n"
   ]
  },
  {
   "cell_type": "code",
   "execution_count": 14,
   "id": "e4c9aa17",
   "metadata": {},
   "outputs": [
    {
     "name": "stdout",
     "output_type": "stream",
     "text": [
      "0.017453292519943295\n",
      "0.0002908882086657216\n",
      "0.0002908882086657216\n",
      "4.84813681109536e-06\n",
      "4.84813681109536e-06\n"
     ]
    }
   ],
   "source": [
    "# Angle:\n",
    "from scipy import constants\n",
    "print(constants.degree) # 0.0174\n",
    "print(constants.arcmin)\n",
    "print(constants.arcminute) # 0.0002\n",
    "print(constants.arcsec)\n",
    "print(constants.arcsecond)\n",
    "\n"
   ]
  },
  {
   "cell_type": "code",
   "execution_count": 15,
   "id": "7901b99b",
   "metadata": {},
   "outputs": [
    {
     "name": "stdout",
     "output_type": "stream",
     "text": [
      "60.0\n",
      "3600.0\n",
      "86400.0\n",
      "604800.0\n",
      "31536000.0\n",
      "31557600.0\n"
     ]
    }
   ],
   "source": [
    "# Time:\n",
    "from scipy import constants\n",
    "print(constants.minute) # 60.0\n",
    "print(constants.hour) # 3600\n",
    "print(constants.day) \n",
    "print(constants.week)\n",
    "print(constants.year)\n",
    "print(constants.Julian_year)\n",
    "\n"
   ]
  },
  {
   "cell_type": "code",
   "execution_count": 16,
   "id": "9859ae0f",
   "metadata": {},
   "outputs": [
    {
     "name": "stdout",
     "output_type": "stream",
     "text": [
      "0.0254\n",
      "0.30479999999999996\n",
      "0.9143999999999999\n",
      "1609.3439999999998\n",
      "2.5399999999999997e-05\n",
      "0.00035277777777777776\n",
      "0.00035277777777777776\n",
      "0.3048006096012192\n",
      "1609.3472186944373\n",
      "1852.0\n",
      "1e-15\n",
      "1e-10\n",
      "1e-06\n",
      "149597870700.0\n",
      "149597870700.0\n",
      "9460730472580800.0\n",
      "3.085677581491367e+16\n"
     ]
    }
   ],
   "source": [
    "# length\n",
    "from scipy import constants\n",
    "print(constants.inch) # 0.0254\n",
    "print(constants.foot)\n",
    "print(constants.yard)\n",
    "print(constants.mile)\n",
    "print(constants.mil)\n",
    "print(constants.pt)\n",
    "print(constants.point)\n",
    "print(constants.survey_foot)\n",
    "print(constants.survey_mile)\n",
    "print(constants.nautical_mile)\n",
    "print(constants.fermi)\n",
    "print(constants.angstrom)\n",
    "print(constants.micron)\n",
    "print(constants.au)\n",
    "print(constants.astronomical_unit)\n",
    "print(constants.light_year)\n",
    "print(constants.parsec)\n",
    "\n"
   ]
  },
  {
   "cell_type": "code",
   "execution_count": 17,
   "id": "da522da9",
   "metadata": {},
   "outputs": [
    {
     "name": "stdout",
     "output_type": "stream",
     "text": [
      "101325.0\n",
      "101325.0\n",
      "100000.0\n",
      "133.32236842105263\n",
      "133.32236842105263\n",
      "6894.757293168361\n"
     ]
    }
   ],
   "source": [
    "# Pressure: pascals\n",
    "from scipy import constants\n",
    "print(constants.atm)\n",
    "print(constants.atmosphere)\n",
    "print(constants.bar)\n",
    "print(constants.torr)\n",
    "print(constants.mmHg) \n",
    "print(constants.psi)\n",
    "\n"
   ]
  },
  {
   "cell_type": "code",
   "execution_count": 18,
   "id": "a6a60243",
   "metadata": {},
   "outputs": [
    {
     "name": "stdout",
     "output_type": "stream",
     "text": [
      "0.001\n",
      "0.001\n",
      "0.0037854117839999997\n",
      "0.0037854117839999997\n",
      "0.00454609\n",
      "2.9573529562499998e-05\n",
      "2.9573529562499998e-05\n",
      "2.84130625e-05\n",
      "0.15898729492799998\n",
      "0.15898729492799998\n"
     ]
    }
   ],
   "source": [
    "# Volume: cubic meter\n",
    "from scipy import constants\n",
    "print(constants.liter) # 0.001\n",
    "print(constants.litre) # 0.001\n",
    "print(constants.gallon)\n",
    "print(constants.gallon_US)\n",
    "print(constants.gallon_imp)\n",
    "print(constants.fluid_ounce)\n",
    "print(constants.fluid_ounce_US)\n",
    "print(constants.fluid_ounce_imp)\n",
    "print(constants.barrel)\n",
    "print(constants.bbl)\n",
    "\n"
   ]
  },
  {
   "cell_type": "code",
   "execution_count": 19,
   "id": "6b7d7f23",
   "metadata": {},
   "outputs": [
    {
     "name": "stdout",
     "output_type": "stream",
     "text": [
      "0.2777777777777778\n",
      "0.44703999999999994\n",
      "340.5\n",
      "340.5\n",
      "0.5144444444444445\n"
     ]
    }
   ],
   "source": [
    "# speed: meter per sec\n",
    "from scipy import constants\n",
    "print(constants.kmh) # 0.27777777\n",
    "print(constants.mph)\n",
    "print(constants.mach) # 340.5\n",
    "print(constants.speed_of_sound) # 340.5\n",
    "print(constants.knot)\n",
    "\n"
   ]
  },
  {
   "cell_type": "code",
   "execution_count": 20,
   "id": "42544b16",
   "metadata": {},
   "outputs": [
    {
     "name": "stdout",
     "output_type": "stream",
     "text": [
      "273.15\n",
      "0.5555555555555556\n"
     ]
    }
   ],
   "source": [
    "# Temprature: kelvin\n",
    "from scipy import constants\n",
    "print(constants.zero_Celsius)\n",
    "print(constants.degree_Fahrenheit)\n",
    "\n"
   ]
  },
  {
   "cell_type": "code",
   "execution_count": 21,
   "id": "b7fb1361",
   "metadata": {},
   "outputs": [
    {
     "name": "stdout",
     "output_type": "stream",
     "text": [
      "1.602176634e-19\n",
      "1.602176634e-19\n",
      "4.184\n",
      "4.184\n",
      "4.1868\n",
      "1e-07\n",
      "1055.05585262\n",
      "1055.05585262\n",
      "1054.3502644888888\n",
      "4184000000.0\n"
     ]
    }
   ],
   "source": [
    "# Energy: joules\n",
    "from scipy import constants\n",
    "print(constants.eV)\n",
    "print(constants.electron_volt)\n",
    "print(constants.calorie) # 4.184\n",
    "print(constants.calorie_th) # 4.184\n",
    "print(constants.calorie_IT)\n",
    "print(constants.erg) # 07\n",
    "print(constants.Btu)\n",
    "print(constants.Btu_IT)\n",
    "print(constants.Btu_th)\n",
    "print(constants.ton_TNT)\n"
   ]
  },
  {
   "cell_type": "code",
   "execution_count": 22,
   "id": "24dfa70a",
   "metadata": {},
   "outputs": [
    {
     "name": "stdout",
     "output_type": "stream",
     "text": [
      "1e-05\n",
      "1e-05\n",
      "4.4482216152605\n",
      "4.4482216152605\n",
      "9.80665\n",
      "9.80665\n"
     ]
    }
   ],
   "source": [
    "# Power : newton\n",
    "from scipy import constants\n",
    "print(constants.dyn)\n",
    "print(constants.dyne)\n",
    "print(constants.lbf)\n",
    "print(constants.pound_force)\n",
    "print(constants.kgf)\n",
    "print(constants.kilogram_force)"
   ]
  },
  {
   "cell_type": "code",
   "execution_count": null,
   "id": "bbec31bf",
   "metadata": {},
   "outputs": [],
   "source": []
  }
 ],
 "metadata": {
  "kernelspec": {
   "display_name": "base",
   "language": "python",
   "name": "python3"
  },
  "language_info": {
   "codemirror_mode": {
    "name": "ipython",
    "version": 3
   },
   "file_extension": ".py",
   "mimetype": "text/x-python",
   "name": "python",
   "nbconvert_exporter": "python",
   "pygments_lexer": "ipython3",
   "version": "3.13.2"
  }
 },
 "nbformat": 4,
 "nbformat_minor": 5
}
