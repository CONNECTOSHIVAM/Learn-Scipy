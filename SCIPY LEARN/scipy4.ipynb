{
 "cells": [
  {
   "cell_type": "markdown",
   "id": "3cd85e04",
   "metadata": {},
   "source": [
    "Working With Graphs"
   ]
  },
  {
   "cell_type": "code",
   "execution_count": 4,
   "id": "9cc5584f",
   "metadata": {},
   "outputs": [
    {
     "name": "stdout",
     "output_type": "stream",
     "text": [
      "(1, array([0, 0, 0], dtype=int32))\n"
     ]
    }
   ],
   "source": [
    "#working with graphs : we have a module named scipy.sparse.csgraph\n",
    "#adjacency Matrix : nxn matrix where is n is the number of elemnts in the graph.\n",
    "#Connected Component\n",
    "\n",
    "import numpy as np\n",
    "from scipy.sparse.csgraph import connected_components\n",
    "from scipy.sparse import csr_matrix\n",
    "\n",
    "arr = np.array([[0,1,2],[1,0,0],[2,0,0]])\n",
    "arrNew = csr_matrix(arr)\n",
    "print(connected_components(arrNew))"
   ]
  },
  {
   "cell_type": "code",
   "execution_count": 5,
   "id": "242a2e29",
   "metadata": {},
   "outputs": [
    {
     "name": "stdout",
     "output_type": "stream",
     "text": [
      "(array([0., 1., 2.]), array([-9999,     0,     0], dtype=int32))\n"
     ]
    }
   ],
   "source": [
    "# Dijkstra method: for finding the shortest path in a graph from one element to another\n",
    "# it take 3 arg: return_predecessors, indices, limit\n",
    "# here we will find te shortest path from element 1 to 2:\n",
    "import numpy as np\n",
    "from scipy.sparse.csgraph import dijkstra\n",
    "from scipy.sparse import csr_matrix\n",
    "sharad = np.array([[0,1,2], [1,0,0], [2,0,0]])\n",
    "sharadnew = csr_matrix(sharad)\n",
    "print(dijkstra(sharadnew, return_predecessors=True, indices=0))"
   ]
  },
  {
   "cell_type": "code",
   "execution_count": 6,
   "id": "23e227fe",
   "metadata": {},
   "outputs": [
    {
     "name": "stdout",
     "output_type": "stream",
     "text": [
      "(array([[0., 1., 2.],\n",
      "       [1., 0., 3.],\n",
      "       [2., 3., 0.]]), array([[-9999,     0,     0],\n",
      "       [    1, -9999,     0],\n",
      "       [    2,     0, -9999]], dtype=int32))\n"
     ]
    }
   ],
   "source": [
    "# Floyd Warshall() method: it is for finding the shortest path between all the pairs of elements.\n",
    "\n",
    "import numpy as np\n",
    "from scipy.sparse.csgraph import floyd_warshall\n",
    "from scipy.sparse import csr_matrix\n",
    "sharad = np.array([[0,1,2], [1,0,0], [2,0,0]])\n",
    "sharadnew = csr_matrix(sharad)\n",
    "print(floyd_warshall(sharadnew, return_predecessors=True))\n",
    "\n"
   ]
  },
  {
   "cell_type": "code",
   "execution_count": 7,
   "id": "07dc854d",
   "metadata": {},
   "outputs": [
    {
     "name": "stdout",
     "output_type": "stream",
     "text": [
      "(array([ 0., -1.,  2.]), array([-9999,     0,     0], dtype=int32))\n"
     ]
    }
   ],
   "source": [
    "# Bellman_ford() method: it is for finding the shortest path between all the pairs of elements but \n",
    "# this method can handle negative weight as well:\n",
    "import numpy as np\n",
    "from scipy.sparse.csgraph import bellman_ford\n",
    "from scipy.sparse import csr_matrix\n",
    "sharad = np.array([[0,-1,2], [1,0,0], [2,0,0]])\n",
    "sharadnew = csr_matrix(sharad)\n",
    "print(bellman_ford(sharadnew, return_predecessors=True, indices=0))\n"
   ]
  },
  {
   "cell_type": "code",
   "execution_count": 8,
   "id": "1982e898",
   "metadata": {},
   "outputs": [
    {
     "name": "stdout",
     "output_type": "stream",
     "text": [
      "(array([1, 0, 3, 2], dtype=int32), array([    1, -9999,     1,     0], dtype=int32))\n"
     ]
    }
   ],
   "source": [
    "# Depth first order: it returns a depth first traversal froma node: it has 2 argu: the graph, starting element\n",
    "import numpy as np\n",
    "from scipy.sparse.csgraph import depth_first_order\n",
    "from scipy.sparse import csr_matrix\n",
    "sharad = np.array([[0,1,0,1], [1,1,1,1], [2,1,1,0],[0,1,0,1]])\n",
    "sharadnew = csr_matrix(sharad)\n",
    "print(depth_first_order(sharadnew, 1))\n",
    "\n"
   ]
  },
  {
   "cell_type": "code",
   "execution_count": 9,
   "id": "7558b24d",
   "metadata": {},
   "outputs": [
    {
     "name": "stdout",
     "output_type": "stream",
     "text": [
      "(array([1, 0, 2, 3], dtype=int32), array([    1, -9999,     1,     1], dtype=int32))\n"
     ]
    }
   ],
   "source": [
    "# breadth_first_order() method: it returns the breadth from a node:it has 2 argu: the graph, starting element\n",
    "import numpy as np\n",
    "from scipy.sparse.csgraph import breadth_first_order\n",
    "from scipy.sparse import csr_matrix\n",
    "sharad = np.array([[0,1,0,1], [1,1,1,1], [2,1,1,0],[0,1,0,1]])\n",
    "sharadnew = csr_matrix(sharad)\n",
    "print(breadth_first_order(sharadnew, 1))"
   ]
  },
  {
   "cell_type": "code",
   "execution_count": 10,
   "id": "434d26d3",
   "metadata": {},
   "outputs": [
    {
     "name": "stdout",
     "output_type": "stream",
     "text": [
      "(array([1, 0, 2, 3], dtype=int32), array([    1, -9999,     1,     1], dtype=int32))\n"
     ]
    }
   ],
   "source": [
    "# breadth_first_order() method: it returns the breadth from a node:it has 2 argu: the graph, starting element\n",
    "import numpy as np\n",
    "from scipy.sparse.csgraph import breadth_first_order\n",
    "from scipy.sparse import csr_matrix\n",
    "sharad = np.array([[0,1,0,1], [1,1,1,1], [2,1,1,0],[0,1,0,1]])\n",
    "sharadnew = csr_matrix(sharad)\n",
    "print(breadth_first_order(sharadnew, 1))"
   ]
  },
  {
   "cell_type": "code",
   "execution_count": null,
   "id": "d5a316f1",
   "metadata": {},
   "outputs": [],
   "source": [
    "import numpy as np\n",
    "arr = np.array(1,2,)"
   ]
  }
 ],
 "metadata": {
  "kernelspec": {
   "display_name": "base",
   "language": "python",
   "name": "python3"
  },
  "language_info": {
   "codemirror_mode": {
    "name": "ipython",
    "version": 3
   },
   "file_extension": ".py",
   "mimetype": "text/x-python",
   "name": "python",
   "nbconvert_exporter": "python",
   "pygments_lexer": "ipython3",
   "version": "3.13.2"
  }
 },
 "nbformat": 4,
 "nbformat_minor": 5
}
